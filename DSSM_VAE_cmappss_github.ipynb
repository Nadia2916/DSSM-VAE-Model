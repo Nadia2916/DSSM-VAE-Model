{
  "cells": [
    {
      "cell_type": "markdown",
      "metadata": {
        "id": "view-in-github",
        "colab_type": "text"
      },
      "source": [
        "<a href=\"https://colab.research.google.com/github/Nadia2916/DSSM-VAE-Model/blob/main/DSSM_VAE_cmappss_github.ipynb\" target=\"_parent\"><img src=\"https://colab.research.google.com/assets/colab-badge.svg\" alt=\"Open In Colab\"/></a>"
      ]
    },
    {
      "cell_type": "code",
      "execution_count": 1,
      "metadata": {
        "colab": {
          "base_uri": "https://localhost:8080/"
        },
        "id": "saCcIguZx-VU",
        "outputId": "1aa26914-3548-443e-e42c-41a65250a13b"
      },
      "outputs": [
        {
          "output_type": "stream",
          "name": "stdout",
          "text": [
            "Pandas version:  2.2.2\n",
            "Numpy version:  2.0.2\n",
            "Scikit-learn version:  1.6.1\n"
          ]
        }
      ],
      "source": [
        "#Importing the libraries\n",
        "import pandas as pd\n",
        "import numpy as np\n",
        "import matplotlib.pyplot as plt\n",
        "import seaborn as sns\n",
        "import sklearn.datasets as skd\n",
        "import copy\n",
        "import sys\n",
        "import random\n",
        "import matplotlib\n",
        "import matplotlib.pyplot as plt\n",
        "#import statsmodels\n",
        "import sklearn\n",
        "import math\n",
        "import csv\n",
        "from numpy.random import choice\n",
        "from sklearn import datasets\n",
        "from matplotlib.pyplot import figure\n",
        "from matplotlib.font_manager import FontProperties\n",
        "from sklearn.preprocessing import MinMaxScaler\n",
        "#from sklearn.preprocessing import StandardScalfrom keras import optimizers\n",
        "import torch\n",
        "import torch.nn as nn\n",
        "from torch.distributions import Normal, Categorical\n",
        "import torch.optim as optim\n",
        "import torch.utils.data\n",
        "import matplotlib.pyplot as plt\n",
        "from torch.utils.data import Dataset, DataLoader\n",
        "from torch.autograd import Variable\n",
        "import matplotlib.pyplot as plt\n",
        "import time\n",
        "#import tensorflow as tf\n",
        "import csv\n",
        "from sklearn.metrics import accuracy_score\n",
        "from sklearn.metrics import mean_squared_error, mean_absolute_error\n",
        "from numpy.random import choice\n",
        "from scipy.stats import multivariate_normal\n",
        "from sklearn.model_selection import train_test_split\n",
        "import torch.nn.functional as F\n",
        "from torch.utils.data import Dataset\n",
        "\n",
        "pd.set_option('display.max_columns', None)\n",
        "\n",
        "print(\"Pandas version: \", pd.__version__)\n",
        "print(\"Numpy version: \", np.__version__)\n",
        "print(\"Scikit-learn version: \", sklearn.__version__)"
      ]
    },
    {
      "cell_type": "code",
      "execution_count": 2,
      "metadata": {
        "colab": {
          "base_uri": "https://localhost:8080/"
        },
        "id": "hH3ta4PeUSpu",
        "outputId": "5fee9315-467c-4f96-accd-5a605ad71368"
      },
      "outputs": [
        {
          "output_type": "stream",
          "name": "stdout",
          "text": [
            "GPU is not available.\n"
          ]
        }
      ],
      "source": [
        "## if GPU is available or not\n",
        "\n",
        "if torch.cuda.is_available():\n",
        "    print(\"GPU is available.\")\n",
        "else:\n",
        "    print(\"GPU is not available.\")"
      ]
    },
    {
      "cell_type": "code",
      "execution_count": 3,
      "metadata": {
        "id": "c6FG3iHFUSpv"
      },
      "outputs": [],
      "source": [
        "# Check if CUDA (GPU support) is available, and set the device accordingly\n",
        "device = torch.device(\"cuda\" if torch.cuda.is_available() else \"cpu\")\n"
      ]
    },
    {
      "cell_type": "code",
      "execution_count": 4,
      "metadata": {
        "id": "u2IET-g1HgPP"
      },
      "outputs": [],
      "source": [
        "#Adding Column name to Input files as it doesnot have column name\n",
        "dependent_var = ['RemainingUsefulLife']\n",
        "index_columns_names =  [\"UnitNumber\",\"Cycle\"]\n",
        "operational_settings_columns_names = [\"OpSet\"+str(i) for i in range(1,4)]\n",
        "sensor_measure_columns_names =[\"SensorMeasure\"+str(i) for i in range(1,22)]\n",
        "input_file_column_names = index_columns_names + operational_settings_columns_names + sensor_measure_columns_names"
      ]
    },
    {
      "cell_type": "markdown",
      "metadata": {
        "id": "3zYTiPHrr-er"
      },
      "source": [
        "Upload the train, test and Rul dataset separately for FD001/FD002/FD003/FD004"
      ]
    },
    {
      "cell_type": "code",
      "execution_count": 7,
      "metadata": {
        "colab": {
          "base_uri": "https://localhost:8080/",
          "height": 73
        },
        "id": "EC3m5bBYjKu4",
        "outputId": "0340d2de-39a8-46ee-dfa0-9366132b2735"
      },
      "outputs": [
        {
          "output_type": "display_data",
          "data": {
            "text/plain": [
              "<IPython.core.display.HTML object>"
            ],
            "text/html": [
              "\n",
              "     <input type=\"file\" id=\"files-3afb9077-f178-4baf-acd6-62274e1dcac7\" name=\"files[]\" multiple disabled\n",
              "        style=\"border:none\" />\n",
              "     <output id=\"result-3afb9077-f178-4baf-acd6-62274e1dcac7\">\n",
              "      Upload widget is only available when the cell has been executed in the\n",
              "      current browser session. Please rerun this cell to enable.\n",
              "      </output>\n",
              "      <script>// Copyright 2017 Google LLC\n",
              "//\n",
              "// Licensed under the Apache License, Version 2.0 (the \"License\");\n",
              "// you may not use this file except in compliance with the License.\n",
              "// You may obtain a copy of the License at\n",
              "//\n",
              "//      http://www.apache.org/licenses/LICENSE-2.0\n",
              "//\n",
              "// Unless required by applicable law or agreed to in writing, software\n",
              "// distributed under the License is distributed on an \"AS IS\" BASIS,\n",
              "// WITHOUT WARRANTIES OR CONDITIONS OF ANY KIND, either express or implied.\n",
              "// See the License for the specific language governing permissions and\n",
              "// limitations under the License.\n",
              "\n",
              "/**\n",
              " * @fileoverview Helpers for google.colab Python module.\n",
              " */\n",
              "(function(scope) {\n",
              "function span(text, styleAttributes = {}) {\n",
              "  const element = document.createElement('span');\n",
              "  element.textContent = text;\n",
              "  for (const key of Object.keys(styleAttributes)) {\n",
              "    element.style[key] = styleAttributes[key];\n",
              "  }\n",
              "  return element;\n",
              "}\n",
              "\n",
              "// Max number of bytes which will be uploaded at a time.\n",
              "const MAX_PAYLOAD_SIZE = 100 * 1024;\n",
              "\n",
              "function _uploadFiles(inputId, outputId) {\n",
              "  const steps = uploadFilesStep(inputId, outputId);\n",
              "  const outputElement = document.getElementById(outputId);\n",
              "  // Cache steps on the outputElement to make it available for the next call\n",
              "  // to uploadFilesContinue from Python.\n",
              "  outputElement.steps = steps;\n",
              "\n",
              "  return _uploadFilesContinue(outputId);\n",
              "}\n",
              "\n",
              "// This is roughly an async generator (not supported in the browser yet),\n",
              "// where there are multiple asynchronous steps and the Python side is going\n",
              "// to poll for completion of each step.\n",
              "// This uses a Promise to block the python side on completion of each step,\n",
              "// then passes the result of the previous step as the input to the next step.\n",
              "function _uploadFilesContinue(outputId) {\n",
              "  const outputElement = document.getElementById(outputId);\n",
              "  const steps = outputElement.steps;\n",
              "\n",
              "  const next = steps.next(outputElement.lastPromiseValue);\n",
              "  return Promise.resolve(next.value.promise).then((value) => {\n",
              "    // Cache the last promise value to make it available to the next\n",
              "    // step of the generator.\n",
              "    outputElement.lastPromiseValue = value;\n",
              "    return next.value.response;\n",
              "  });\n",
              "}\n",
              "\n",
              "/**\n",
              " * Generator function which is called between each async step of the upload\n",
              " * process.\n",
              " * @param {string} inputId Element ID of the input file picker element.\n",
              " * @param {string} outputId Element ID of the output display.\n",
              " * @return {!Iterable<!Object>} Iterable of next steps.\n",
              " */\n",
              "function* uploadFilesStep(inputId, outputId) {\n",
              "  const inputElement = document.getElementById(inputId);\n",
              "  inputElement.disabled = false;\n",
              "\n",
              "  const outputElement = document.getElementById(outputId);\n",
              "  outputElement.innerHTML = '';\n",
              "\n",
              "  const pickedPromise = new Promise((resolve) => {\n",
              "    inputElement.addEventListener('change', (e) => {\n",
              "      resolve(e.target.files);\n",
              "    });\n",
              "  });\n",
              "\n",
              "  const cancel = document.createElement('button');\n",
              "  inputElement.parentElement.appendChild(cancel);\n",
              "  cancel.textContent = 'Cancel upload';\n",
              "  const cancelPromise = new Promise((resolve) => {\n",
              "    cancel.onclick = () => {\n",
              "      resolve(null);\n",
              "    };\n",
              "  });\n",
              "\n",
              "  // Wait for the user to pick the files.\n",
              "  const files = yield {\n",
              "    promise: Promise.race([pickedPromise, cancelPromise]),\n",
              "    response: {\n",
              "      action: 'starting',\n",
              "    }\n",
              "  };\n",
              "\n",
              "  cancel.remove();\n",
              "\n",
              "  // Disable the input element since further picks are not allowed.\n",
              "  inputElement.disabled = true;\n",
              "\n",
              "  if (!files) {\n",
              "    return {\n",
              "      response: {\n",
              "        action: 'complete',\n",
              "      }\n",
              "    };\n",
              "  }\n",
              "\n",
              "  for (const file of files) {\n",
              "    const li = document.createElement('li');\n",
              "    li.append(span(file.name, {fontWeight: 'bold'}));\n",
              "    li.append(span(\n",
              "        `(${file.type || 'n/a'}) - ${file.size} bytes, ` +\n",
              "        `last modified: ${\n",
              "            file.lastModifiedDate ? file.lastModifiedDate.toLocaleDateString() :\n",
              "                                    'n/a'} - `));\n",
              "    const percent = span('0% done');\n",
              "    li.appendChild(percent);\n",
              "\n",
              "    outputElement.appendChild(li);\n",
              "\n",
              "    const fileDataPromise = new Promise((resolve) => {\n",
              "      const reader = new FileReader();\n",
              "      reader.onload = (e) => {\n",
              "        resolve(e.target.result);\n",
              "      };\n",
              "      reader.readAsArrayBuffer(file);\n",
              "    });\n",
              "    // Wait for the data to be ready.\n",
              "    let fileData = yield {\n",
              "      promise: fileDataPromise,\n",
              "      response: {\n",
              "        action: 'continue',\n",
              "      }\n",
              "    };\n",
              "\n",
              "    // Use a chunked sending to avoid message size limits. See b/62115660.\n",
              "    let position = 0;\n",
              "    do {\n",
              "      const length = Math.min(fileData.byteLength - position, MAX_PAYLOAD_SIZE);\n",
              "      const chunk = new Uint8Array(fileData, position, length);\n",
              "      position += length;\n",
              "\n",
              "      const base64 = btoa(String.fromCharCode.apply(null, chunk));\n",
              "      yield {\n",
              "        response: {\n",
              "          action: 'append',\n",
              "          file: file.name,\n",
              "          data: base64,\n",
              "        },\n",
              "      };\n",
              "\n",
              "      let percentDone = fileData.byteLength === 0 ?\n",
              "          100 :\n",
              "          Math.round((position / fileData.byteLength) * 100);\n",
              "      percent.textContent = `${percentDone}% done`;\n",
              "\n",
              "    } while (position < fileData.byteLength);\n",
              "  }\n",
              "\n",
              "  // All done.\n",
              "  yield {\n",
              "    response: {\n",
              "      action: 'complete',\n",
              "    }\n",
              "  };\n",
              "}\n",
              "\n",
              "scope.google = scope.google || {};\n",
              "scope.google.colab = scope.google.colab || {};\n",
              "scope.google.colab._files = {\n",
              "  _uploadFiles,\n",
              "  _uploadFilesContinue,\n",
              "};\n",
              "})(self);\n",
              "</script> "
            ]
          },
          "metadata": {}
        },
        {
          "output_type": "stream",
          "name": "stdout",
          "text": [
            "Saving train_FD001.txt to train_FD001.txt\n"
          ]
        }
      ],
      "source": [
        "#upload from the computer\n",
        "from google.colab import files\n",
        "uploades = files.upload()"
      ]
    },
    {
      "cell_type": "markdown",
      "source": [
        "Read the FD001 dataset (change when using FD002/FD003/FD004)"
      ],
      "metadata": {
        "id": "kN-2uNxyOgXL"
      }
    },
    {
      "cell_type": "code",
      "execution_count": 8,
      "metadata": {
        "id": "Ypje1SaeRqZs"
      },
      "outputs": [],
      "source": [
        "#read the data files(check for FD001/FD002/FD003/FD004 )\n",
        "Train = pd.read_csv(\"train_FD001.txt\", sep = \"\\s+\", header = None, names=input_file_column_names)\n",
        "Test = pd.read_csv(\"test_FD001.txt\", sep = \"\\s+\", header = None, names=input_file_column_names)\n",
        "Rul = pd.read_csv(\"RUL_FD001.txt\", sep = \"\\s+\", header = None)\n",
        "\n",
        "# Assuming you've already read the DataFrame as 'Rul'\n",
        "Rul.rename(columns={0: 'True_Rul'}, inplace=True)"
      ]
    },
    {
      "cell_type": "markdown",
      "source": [
        "##PREPROCESSING"
      ],
      "metadata": {
        "id": "TQfI6oXWh6fv"
      }
    },
    {
      "cell_type": "markdown",
      "source": [
        "Time to Failure Count"
      ],
      "metadata": {
        "id": "zlbbWoAFOmLr"
      }
    },
    {
      "cell_type": "code",
      "execution_count": 9,
      "metadata": {
        "id": "ahWKfLKTjHKS"
      },
      "outputs": [],
      "source": [
        "#time to failure or defect for train and test\n",
        "Time_to_failure = Train.groupby(\"UnitNumber\")[\"Cycle\"].count()\n",
        "Time_to_failure_tx= Test.groupby(\"UnitNumber\")[\"Cycle\"].count()"
      ]
    },
    {
      "cell_type": "markdown",
      "source": [
        "Add RUL column to dataset for training"
      ],
      "metadata": {
        "id": "-hBysTYWOpa7"
      }
    },
    {
      "cell_type": "code",
      "execution_count": 10,
      "metadata": {
        "id": "PZ33TuryD57n"
      },
      "outputs": [],
      "source": [
        "# Step 1: Get the maximum cycle for each unit\n",
        "max_cycles = Train.groupby(Train.iloc[:, 0])[Train.columns[1]].max().reset_index()\n",
        "max_cycles.columns = [Train.columns[0], 'MaxCycle']\n",
        "\n",
        "# Step 2: Merge the maximum cycle back into the original DataFrame\n",
        "train_rul = Train.merge(max_cycles, on=Train.columns[0])\n",
        "\n",
        "# Step 3: Calculate remaining useful life for each row\n",
        "train_rul['RUL'] = train_rul['MaxCycle'] - train_rul[Train.columns[1]]\n",
        "# Step 3: Calculate remaining useful life for each row, clipping it to a maximum of 125\n",
        "#train_rul['RUL'] = train_rul['MaxCycle'] - train_rul[Train.columns[1]]\n",
        "train_rul['RUL'] = train_rul['RUL'].clip(upper=125)\n",
        "\n",
        "# Step 4: Drop the unneeded column\n",
        "train_rul = train_rul.drop('MaxCycle', axis=1)\n",
        "\n",
        "# 'train_with_max_cycles' now contains the Remaining Useful Life (RUL) for each row\n",
        "#train_rul\n"
      ]
    },
    {
      "cell_type": "code",
      "execution_count": 11,
      "metadata": {
        "id": "C3nxQW2VpMbl"
      },
      "outputs": [],
      "source": [
        "# Step 1: Get max cycles per unit\n",
        "max_cycles = Test.groupby(Test.iloc[:, 0])[Test.columns[1]].max().reset_index()\n",
        "max_cycles.columns = [Test.columns[0], 'MaxCycle']\n",
        "\n",
        "# Step 2: Add True_Rul from Rul file\n",
        "max_cycles['MaxCycle'] = max_cycles['MaxCycle'] + Rul['True_Rul']\n",
        "\n",
        "# Step 3: Merge back into Test set\n",
        "test_rul = Test.merge(max_cycles, on=Test.columns[0])\n",
        "\n",
        "# Step 4: Compute RUL (real cycle degradation)\n",
        "test_rul['RUL'] = test_rul['MaxCycle'] - test_rul[Test.columns[1]]\n",
        "\n",
        "# Step 5: Optionally cap RUL (after computing it)\n",
        "test_rul['RUL'] = test_rul['RUL'].clip(upper=125)\n",
        "\n",
        "# Step 6: Drop intermediate column\n",
        "test_rul = test_rul.drop('MaxCycle', axis=1)"
      ]
    },
    {
      "cell_type": "markdown",
      "source": [
        "Normalizing the selected 14 columns(coninuous sensor observations) after feature engineering"
      ],
      "metadata": {
        "id": "iaI17vSgoTaI"
      }
    },
    {
      "cell_type": "code",
      "execution_count": 12,
      "metadata": {
        "id": "7oeh1W4RL41y"
      },
      "outputs": [],
      "source": [
        "### create a new dataset with only the selected columns\n",
        "cols_to_normalize = train_rul.iloc[:, [6, 7, 8, 11, 12, 13, 15, 16, 17, 18, 19, 21, 24, 25,26]]\n",
        "\n",
        "# Calculate the minimum and maximum values for the selected columns\n",
        "min_vals = cols_to_normalize.min()\n",
        "max_vals = cols_to_normalize.max()\n",
        "\n",
        "# Perform min-max normalization on the selected columns within the train_rul DataFrame\n",
        "train_rul[cols_to_normalize.columns] = (cols_to_normalize - min_vals) / (max_vals - min_vals)"
      ]
    },
    {
      "cell_type": "code",
      "execution_count": 13,
      "metadata": {
        "id": "_UccF3OcqtdQ"
      },
      "outputs": [],
      "source": [
        "### create a new dataset with only the selected columns\n",
        "cols_to_normalize = test_rul.iloc[:, [6, 7, 8, 11, 12, 13, 15, 16, 17, 18, 19, 21, 24, 25, 26]]\n",
        "\n",
        "# Calculate the minimum and maximum values for the selected columns\n",
        "min_vals_t = cols_to_normalize.min()\n",
        "max_vals_t = cols_to_normalize.max()\n",
        "\n",
        "# Perform min-max normalization on the selected columns within the train_rul DataFrame\n",
        "test_rul[cols_to_normalize.columns] = (cols_to_normalize - min_vals_t) / (max_vals_t - min_vals_t)"
      ]
    },
    {
      "cell_type": "code",
      "execution_count": 14,
      "metadata": {
        "id": "RM1xFBlQoDT7"
      },
      "outputs": [],
      "source": [
        "#select only the columns of continuous sensor measurement nad add up with unit number\n",
        "df_train = train_rul.iloc[:, [0, 1, 6, 7, 8, 11, 12, 13, 15, 16, 17, 18, 19, 21, 24, 25,26]].copy()\n",
        "#df = train_rul.iloc[:, [0, 1, 6, 7, 8, 11,12,13,26]].copy()\n",
        "df_test = test_rul.iloc[:, [0, 1, 6, 7, 8, 11, 12, 13, 15, 16, 17, 18, 19, 21, 24, 25,26]].copy()"
      ]
    },
    {
      "cell_type": "markdown",
      "source": [
        "##DATASET CLASS DEFINATION WITH TENSOR"
      ],
      "metadata": {
        "id": "ph6_-qJSRNUh"
      }
    },
    {
      "cell_type": "code",
      "execution_count": 15,
      "metadata": {
        "id": "D8CMDITTj_eA"
      },
      "outputs": [],
      "source": [
        "#DATASET\n",
        "class MyDataset(Dataset):\n",
        "    def __init__(self, data):\n",
        "        self.data = data\n",
        "\n",
        "    def __len__(self):\n",
        "        return self.data['UnitNumber'].nunique()\n",
        "\n",
        "    def __getitem__(self, index):\n",
        "        unique_seq_nums = self.data['UnitNumber'].unique()\n",
        "        seq_num = unique_seq_nums[index % len(unique_seq_nums)]\n",
        "\n",
        "        #selecting inputs to teh network\n",
        "        y = self.data[self.data['UnitNumber'] == seq_num][['SensorMeasure2','SensorMeasure3', 'SensorMeasure4', 'SensorMeasure7', 'SensorMeasure8', 'SensorMeasure9', 'SensorMeasure11', 'SensorMeasure12', 'SensorMeasure13', 'SensorMeasure14', 'SensorMeasure15', 'SensorMeasure17', 'SensorMeasure20', 'SensorMeasure21']].values\n",
        "        r = self.data[self.data['UnitNumber'] == seq_num][['RUL']].values\n",
        "\n",
        "        # if units that are too short\n",
        "        if len(y) <= lookback:\n",
        "            raise ValueError(f\"Sequence for unit {seq_num} is shorter than lookback ({lookback})\")\n",
        "\n",
        "        # Sliding window logic\n",
        "        def create_lookback_sequences(data, lookback):\n",
        "            X, Y = [], []\n",
        "            for i in range(len(data) - lookback):\n",
        "                X.append(data[i:i+lookback])\n",
        "                Y.append(data[i+lookback])\n",
        "            return np.array(X), np.array(Y)\n",
        "        Y, R = create_lookback_sequences(y, lookback)\n",
        "\n",
        "        # Convert to tensors\n",
        "        seq_tensor = torch.tensor(y, dtype=torch.float)\n",
        "        true_rul= torch.tensor(r, dtype=torch.float)\n",
        "        seq_len = seq_tensor.shape[0]\n",
        "        return seq_tensor, seq_num, seq_len, true_rul"
      ]
    },
    {
      "cell_type": "markdown",
      "metadata": {
        "id": "346sJkZPMtLD"
      },
      "source": [
        "###MODEL STRUCTURE"
      ]
    },
    {
      "cell_type": "code",
      "execution_count": 16,
      "metadata": {
        "id": "9obQwXDbjshn"
      },
      "outputs": [],
      "source": [
        "class RVAEWithRULPrediction(nn.Module):\n",
        "    def __init__(self, input_size, hidden_size, latent_size, categorical_latent_size, lookback, num_layers, bias=True, dropout_prob=0):\n",
        "        super(RVAEWithRULPrediction, self).__init__()\n",
        "        self.input_size = input_size\n",
        "        self.hidden_size = hidden_size\n",
        "        self.latent_size = latent_size\n",
        "        self.categorical_latent_size = categorical_latent_size\n",
        "        self.lookback = lookback\n",
        "        self.num_layers = num_layers\n",
        "\n",
        "        # Encoder\n",
        "        self.encoder_input = nn.Linear(input_size, hidden_size)                                        #input layer\n",
        "        self.encoder_rnn = nn.LSTM(hidden_size, hidden_size, num_layers=num_layers, batch_first=True) #RNN layer\n",
        "        self.encoder_fc_mean = nn.Linear(hidden_size, latent_size)                                    #x_mean layer\n",
        "        self.encoder_fc_logvar = nn.Linear(hidden_size, latent_size)                                  #x_logvar layer\n",
        "        self.encoder_fc_categorical = nn.Sequential(\n",
        "            nn.Linear(hidden_size, hidden_size),                                                      #m_logit layer\n",
        "            nn.ReLU(),\n",
        "            nn.Linear(hidden_size, categorical_latent_size)\n",
        "        )\n",
        "\n",
        "        # Prior\n",
        "        self.prior_rnn = nn.LSTM(latent_size + categorical_latent_size, hidden_size, num_layers=num_layers, batch_first=True)\n",
        "        self.prior_fc_mean = nn.Linear(hidden_size, latent_size)\n",
        "        self.prior_fc_logvar = nn.Linear(hidden_size, latent_size)\n",
        "       # self.prior_fc_logits = nn.Linear(hidden_size, categorical_latent_size)\n",
        "        self.prior_fc_logits = nn.Sequential(\n",
        "                    nn.Linear(hidden_size, hidden_size),\n",
        "                    nn.ReLU(),\n",
        "                    nn.Linear(hidden_size, categorical_latent_size)\n",
        "                    )\n",
        "\n",
        "        # Decoder\n",
        "        self.decoder_input1 = nn.Linear(latent_size + categorical_latent_size, hidden_size)                #input layer\n",
        "        self.decoder_input2 = nn.Linear(hidden_size, hidden_size)\n",
        "        self.decoder_input3 = nn.Linear(hidden_size, hidden_size)\n",
        "        self.decoder_rnn_y = nn.LSTM(hidden_size, hidden_size, num_layers=num_layers, batch_first=True)    #RNN layer\n",
        "        self.decoder_output_y = nn.Sequential(nn.Linear(hidden_size, input_size), nn.Sigmoid())             #y_mean layer\n",
        "        self.decoder_output_logvar = nn.Sequential(nn.Linear(hidden_size, input_size), nn.Sigmoid())        #y_logvar layer\n",
        "\n",
        "        # RUL Decoder\n",
        "        self.decoder_rnn_rul = nn.LSTM(latent_size, hidden_size, num_layers=num_layers, batch_first=True)    #RL RNN layer\n",
        "        self.rul_predictor_mean = nn.Linear(hidden_size, 1)                                                  #RL mean layer\n",
        "        self.rul_predictor_logvar = nn.Linear(hidden_size, 1)                                                #RL logvar layer\n",
        "\n",
        "        #definations of functions\n",
        "    #defination of encoder\n",
        "    def encode(self, seq_tensor):\n",
        "        if seq_tensor.dim() == 3 and seq_tensor.shape[1] == self.input_size:\n",
        "            seq_tensor = seq_tensor.permute(0, 2, 1)\n",
        "        y = self.encoder_input(seq_tensor)\n",
        "        y, _ = self.encoder_rnn(y)\n",
        "        x_mean = self.encoder_fc_mean(y)\n",
        "        x_logvar = self.encoder_fc_logvar(y)\n",
        "        categorical_logits = self.encoder_fc_categorical(y)\n",
        "        return y, x_mean, x_logvar, categorical_logits\n",
        "\n",
        "    #defination of prior\n",
        "    def get_priors(self, x, m):\n",
        "        if m.dim() == 2:\n",
        "            m = m.unsqueeze(-1).expand(-1, -1, self.categorical_latent_size)\n",
        "        elif m.size(-1) != self.categorical_latent_size:\n",
        "            m = m[:, :, :1].expand(-1, -1, self.categorical_latent_size)\n",
        "\n",
        "        prior_input = torch.cat([x[:, :-1], m[:, :-1]], dim=-1)\n",
        "        prior_input = F.pad(prior_input, (0, 0, 1, 0), value=0.0)\n",
        "        h, _ = self.prior_rnn(prior_input)\n",
        "        return self.prior_fc_mean(h), self.prior_fc_logvar(h), self.prior_fc_logits(h)\n",
        "\n",
        "    #defination of decoder\n",
        "    def decode(self, x, m):\n",
        "        if m.dim() == 2:\n",
        "            m = m.unsqueeze(-1)\n",
        "        output = torch.cat((x, m), dim=-1)\n",
        "        output = self.decoder_input1(output)\n",
        "        output = self.decoder_input2(output)\n",
        "        output = self.decoder_input3(output)\n",
        "        output, _ = self.decoder_rnn_y(output)\n",
        "        return self.decoder_output_y(output), self.decoder_output_logvar(output)\n",
        "\n",
        "    #defination of rul decoder\n",
        "    def decode_rul(self, x):\n",
        "        output, _ = self.decoder_rnn_rul(x)\n",
        "        return self.rul_predictor_mean(output), self.rul_predictor_logvar(output)\n",
        "\n",
        "    #defination of reparameterize method\n",
        "    def reparameterize(self, x_mean, x_logvar, categorical_logits, num_passes=20):\n",
        "        std = torch.exp(0.5 * x_logvar)\n",
        "        x_samples, m_samples = [], []\n",
        "        T = x_mean.size(1)\n",
        "\n",
        "\n",
        "        for _ in range(num_passes):\n",
        "          #gaussian for x\n",
        "            eps = torch.randn_like(std)\n",
        "            x = x_mean + eps * std\n",
        "          #gumble softmax for m\n",
        "            m = F.gumbel_softmax(categorical_logits, tau=0.05, hard=True)\n",
        "\n",
        "           #SSM dynamics for latent x and m\n",
        "            for t in range(1, T):\n",
        "                x[:, t] = x[:, t] + x[:, t-1] + m[:, t-1]\n",
        "                m[:, t] = m[:, t] + m[:, t-1]\n",
        "\n",
        "            t = torch.linspace(0.0, 1.0, T, device=m.device).view(1, T, 1)\n",
        "            d = torch.linspace(1.0, 0.0, T, device=x.device).view(1, T, 1)\n",
        "            threshold = 0.5\n",
        "            m = (t > threshold).float()\n",
        "            n = 0.1 * torch.randn_like(x)\n",
        "            x = torch.sigmoid(x) * d + n\n",
        "            x = torch.clamp(x, 0, 1)\n",
        "\n",
        "            x_samples.append(x)\n",
        "            m_samples.append(m)\n",
        "\n",
        "        # Monte Carlo averaging\n",
        "        x = torch.mean(torch.stack(x_samples), dim=0)\n",
        "        m = torch.mean(torch.stack(m_samples), dim=0)\n",
        "\n",
        "        return x, m\n",
        "\n",
        "\n",
        "    #defination of forward method\n",
        "    def forward(self, seq_tensor, seq_len=None, true_rul=None, lookback=None):\n",
        "        if lookback is not None:\n",
        "            seq_tensor = seq_tensor[:, :, -lookback:]\n",
        "\n",
        "        y, x_mean, x_logvar, categorical_logits = self.encode(seq_tensor)\n",
        "        x, m = self.reparameterize(x_mean, x_logvar, categorical_logits)\n",
        "        prior_mean, prior_logvar, prior_logits = self.get_priors(x, m)\n",
        "\n",
        "        y_mean, y_logvar = self.decode(x, m)\n",
        "        variance_scale = 0.09\n",
        "        y_hat = y_mean + variance_scale * torch.exp(0.5 * y_logvar) * torch.randn_like(y_mean)\n",
        "        y_hat = y_hat.permute(0, 2, 1)\n",
        "\n",
        "        rul_mean, rul_logvar = self.decode_rul(x)\n",
        "        variance_scale = 0.01\n",
        "        rul_prediction = rul_mean + variance_scale * torch.exp(0.5 * rul_logvar) * torch.randn_like(rul_mean)\n",
        "        rul_prediction = rul_prediction.squeeze(-1).permute(0, 1)\n",
        "\n",
        "        return y_hat, x_mean, x_logvar, categorical_logits, x, m, rul_mean, rul_prediction, prior_mean, prior_logvar, prior_logits\n"
      ]
    },
    {
      "cell_type": "markdown",
      "source": [
        "##HYPERPARAMETERS"
      ],
      "metadata": {
        "id": "gHSYCaXmRapx"
      }
    },
    {
      "cell_type": "code",
      "execution_count": 19,
      "metadata": {
        "id": "j4bjDrrSNLE3"
      },
      "outputs": [],
      "source": [
        "# Hyperparameters used\n",
        "input_size =14               #sensor input size\n",
        "hidden_size = 32             #hidden neuron number\n",
        "latent_size = 1              # continuous latent size,x\n",
        "categorical_latent_size = 1  # Discrete categorical latent size,m\n",
        "learning_rate = 0.0001       # learning rate\n",
        "num_epochs = 5               # training epoch no\n",
        "lookback=5                   #lookback period for RNN\n",
        "num_layers= 2                #number of LSTM layer\n",
        "beta = 1                     #beta for categorical\n",
        "num_passes=20                #monte carlo sample"
      ]
    },
    {
      "cell_type": "markdown",
      "source": [
        "##DATALOADER"
      ],
      "metadata": {
        "id": "GK2zeWzbRgDf"
      }
    },
    {
      "cell_type": "code",
      "execution_count": 20,
      "metadata": {
        "colab": {
          "base_uri": "https://localhost:8080/"
        },
        "id": "v6fBfEBwlxPt",
        "outputId": "2b1ff10e-449d-41c1-e597-d5e39b3d700c"
      },
      "outputs": [
        {
          "output_type": "execute_result",
          "data": {
            "text/plain": [
              "RVAEWithRULPrediction(\n",
              "  (encoder_input): Linear(in_features=14, out_features=32, bias=True)\n",
              "  (encoder_rnn): LSTM(32, 32, num_layers=2, batch_first=True)\n",
              "  (encoder_fc_mean): Linear(in_features=32, out_features=1, bias=True)\n",
              "  (encoder_fc_logvar): Linear(in_features=32, out_features=1, bias=True)\n",
              "  (encoder_fc_categorical): Sequential(\n",
              "    (0): Linear(in_features=32, out_features=32, bias=True)\n",
              "    (1): ReLU()\n",
              "    (2): Linear(in_features=32, out_features=1, bias=True)\n",
              "  )\n",
              "  (prior_rnn): LSTM(2, 32, num_layers=2, batch_first=True)\n",
              "  (prior_fc_mean): Linear(in_features=32, out_features=1, bias=True)\n",
              "  (prior_fc_logvar): Linear(in_features=32, out_features=1, bias=True)\n",
              "  (prior_fc_logits): Sequential(\n",
              "    (0): Linear(in_features=32, out_features=32, bias=True)\n",
              "    (1): ReLU()\n",
              "    (2): Linear(in_features=32, out_features=1, bias=True)\n",
              "  )\n",
              "  (decoder_input1): Linear(in_features=2, out_features=32, bias=True)\n",
              "  (decoder_input2): Linear(in_features=32, out_features=32, bias=True)\n",
              "  (decoder_input3): Linear(in_features=32, out_features=32, bias=True)\n",
              "  (decoder_rnn_y): LSTM(32, 32, num_layers=2, batch_first=True)\n",
              "  (decoder_output_y): Sequential(\n",
              "    (0): Linear(in_features=32, out_features=14, bias=True)\n",
              "    (1): Sigmoid()\n",
              "  )\n",
              "  (decoder_output_logvar): Sequential(\n",
              "    (0): Linear(in_features=32, out_features=14, bias=True)\n",
              "    (1): Sigmoid()\n",
              "  )\n",
              "  (decoder_rnn_rul): LSTM(1, 32, num_layers=2, batch_first=True)\n",
              "  (rul_predictor_mean): Linear(in_features=32, out_features=1, bias=True)\n",
              "  (rul_predictor_logvar): Linear(in_features=32, out_features=1, bias=True)\n",
              ")"
            ]
          },
          "metadata": {},
          "execution_count": 20
        }
      ],
      "source": [
        "#loading thh train and test data\n",
        "data = df_train\n",
        "data_2= df_test\n",
        "batch_size= 1\n",
        "\n",
        "# Split the data into training, validation based on the number of sequences\n",
        "unique_seq_nums = data['UnitNumber'].unique()\n",
        "num_sequences = len(unique_seq_nums)\n",
        "train_size = int(0.8* num_sequences)\n",
        "#test_size = int(0.1 * num_sequences)\n",
        "val_size = int(0.2 * num_sequences)\n",
        "\n",
        "# Split the unique sequence numbers into training, validation, and testing sets\n",
        "train_seq_nums = unique_seq_nums[:train_size]\n",
        "val_seq_nums = unique_seq_nums[train_size:train_size+val_size]\n",
        "test_seq_nums = unique_seq_nums[:]\n",
        "\n",
        "# Create the train dataset and data loader\n",
        "train_data = data[data['UnitNumber'].isin(train_seq_nums)]\n",
        "train_dataset = MyDataset(train_data)\n",
        "train_dataloader = DataLoader(train_dataset, batch_size=batch_size, shuffle=False)\n",
        "\n",
        "# Create the validation dataset and data loader\n",
        "val_data = data[data['UnitNumber'].isin(val_seq_nums)]\n",
        "val_dataset = MyDataset(val_data)\n",
        "val_dataloader = DataLoader(val_dataset, batch_size=batch_size, shuffle=False)\n",
        "\n",
        "# Create the test dataset and data loader\n",
        "test_data = data_2[data_2['UnitNumber'].isin(test_seq_nums)]\n",
        "test_dataset = MyDataset(test_data)\n",
        "test_dataloader = DataLoader(test_dataset, batch_size=batch_size, shuffle=False)\n",
        "\n",
        "# MODEL\n",
        "model = RVAEWithRULPrediction(input_size, hidden_size, latent_size, categorical_latent_size, lookback, num_layers)\n",
        "optimizer = torch.optim.RMSprop(model.parameters(), lr=learning_rate)\n",
        "model"
      ]
    },
    {
      "cell_type": "markdown",
      "source": [
        "##TRAINNING"
      ],
      "metadata": {
        "id": "ydGHp4loRmNI"
      }
    },
    {
      "cell_type": "code",
      "execution_count": 22,
      "metadata": {
        "id": "p07buCJ9NgSH",
        "colab": {
          "base_uri": "https://localhost:8080/"
        },
        "outputId": "89b0988c-cfb2-4902-e633-a42d396461b4"
      },
      "outputs": [
        {
          "output_type": "stream",
          "name": "stdout",
          "text": [
            "Epoch 1 Training RMSE: 0.1544956 Validation RMSE: 0.1573542\n",
            "Epoch 2 Training RMSE: 0.1473098 Validation RMSE: 0.1459936\n",
            "Epoch 3 Training RMSE: 0.1430088 Validation RMSE: 0.1403597\n",
            "Epoch 4 Training RMSE: 0.1411450 Validation RMSE: 0.1364100\n",
            "Epoch 5 Training RMSE: 0.1370805 Validation RMSE: 0.1331329\n",
            "Training took 4093.91 seconds\n"
          ]
        }
      ],
      "source": [
        "# Disable CuDNN for RNNs\n",
        "torch.backends.cudnn.enabled = False\n",
        "\n",
        "# Move the model to the GPU if available\n",
        "if torch.cuda.is_available():\n",
        "    model.to('cuda')\n",
        "\n",
        "# Record the start time\n",
        "start_time = time.time()\n",
        "\n",
        "# Define a list to store the training and validation loss values for each epoch\n",
        "train_loss = []\n",
        "val_loss = []\n",
        "kl_loss= []\n",
        "catkl_loss=[]\n",
        "rul_loss=[]\n",
        "train_rmse = []\n",
        "validation_rmse = []\n",
        "\n",
        "# Define lists to store the predicted outputs and input sequence tensors\n",
        "predicted_outputs = []\n",
        "input_sequences = []\n",
        "con_recon_loss = []\n",
        "dis_BCE_loss= []\n",
        "RMSE_con_latent = []\n",
        "RMSE_dis_latent = []\n",
        "true_rul_list= []\n",
        "rul_prediction_list = []\n",
        "rul_prediction_rmse=[]\n",
        "\n",
        "# Define lists to store the latent state tensors\n",
        "continuous_latent = []\n",
        "discrete_latent = []\n",
        "\n",
        "# Set the initial best validation loss to a very large number\n",
        "best_val_loss = float('inf')\n",
        "\n",
        "# Set the number of epochs to wait before stopping if validation loss doesn't improve\n",
        "patience = 50\n",
        "\n",
        "# Initialize the number of epochs without improvement\n",
        "num_epochs_no_improve = 0\n",
        "\n",
        "# Training loop\n",
        "for epoch in range(num_epochs):\n",
        "    total_loss = 0\n",
        "    for seq_tensor, seq_len, seq_num, true_rul in train_dataloader:\n",
        "        seq_tensor = seq_tensor.to(device)\n",
        "        true_rul = true_rul.to(device)\n",
        "\n",
        "        # Forward pass\n",
        "        y_hat, x_mean, x_logvar, categorical_logits, x, m, rul_prediction, rul_mean, prior_mean, prior_logvar, prior_logits = model(seq_tensor, seq_len, true_rul)\n",
        "        y_hat = y_hat.permute(0, 2, 1)\n",
        "\n",
        "        #reconstruction loss\n",
        "        recon_loss = nn.MSELoss()(seq_tensor, y_hat).to(device)\n",
        "\n",
        "        #kl divergence loss\n",
        "        kl_loss = 0.5 * torch.sum(\n",
        "            prior_logvar - x_logvar +\n",
        "            (torch.exp(x_logvar) + (x_mean - prior_mean) ** 2) / torch.exp(prior_logvar) - 1\n",
        "        ) / seq_tensor.size(0)\n",
        "\n",
        "        #categorical kl loss\n",
        "        q_m = F.softmax(categorical_logits, dim=-1)\n",
        "        log_q_m = F.log_softmax(categorical_logits, dim=-1)\n",
        "        log_p_m = F.log_softmax(prior_logits, dim=-1)\n",
        "        categorical_kl_loss = torch.sum(q_m * (log_q_m - log_p_m)) / seq_tensor.size(0)\n",
        "\n",
        "        #rul loss\n",
        "        rul_prediction = rul_prediction.squeeze(-1)\n",
        "        true_rul = true_rul.squeeze()\n",
        "        if len(true_rul.shape) == 1:\n",
        "            true_rul = true_rul.unsqueeze(0)\n",
        "\n",
        "        rul_loss= nn.MSELoss()(rul_prediction, true_rul).to(device)\n",
        "\n",
        "        #total loss\n",
        "        loss = recon_loss + beta * (kl_loss + categorical_kl_loss) + rul_loss\n",
        "\n",
        "        optimizer.zero_grad()\n",
        "        loss.backward()\n",
        "        optimizer.step()\n",
        "\n",
        "        total_loss += loss.item() * seq_tensor.size(0)\n",
        "\n",
        "        #appending the data\n",
        "        predicted_outputs.append(y_hat)\n",
        "        input_sequences.append(seq_tensor)\n",
        "        continuous_latent.append(x)\n",
        "        discrete_latent.append(m)\n",
        "        true_rul_list.append(true_rul)\n",
        "        rul_prediction_list.append(rul_prediction)\n",
        "\n",
        "    avg_loss = total_loss / len(train_dataset)\n",
        "    train_loss.append(avg_loss)\n",
        "    train_rmse.append(torch.sqrt(recon_loss).item())\n",
        "    con_recon_loss.append(recon_loss)\n",
        "    rul_prediction_rmse.append(torch.sqrt(rul_loss_val).item())\n",
        "\n",
        "\n",
        "#validation loop\n",
        "    model.eval()\n",
        "    with torch.no_grad():\n",
        "        total_val_loss = 0\n",
        "        for seq_tensor, seq_len, seq_num, true_rul in val_dataloader:\n",
        "            seq_tensor = seq_tensor.to(device)\n",
        "            true_rul = true_rul.to(device)\n",
        "\n",
        "            # Forward pass\n",
        "            y_hat, x_mean, x_logvar, categorical_logits, x, m, rul_prediction, rul_mean, prior_mean, prior_logvar, prior_logits = model(seq_tensor, seq_len, true_rul)\n",
        "            y_hat = y_hat.permute(0, 2, 1)\n",
        "\n",
        "            #reconstruction loss validation\n",
        "            recon_loss_val = nn.MSELoss()(seq_tensor, y_hat).to(device)\n",
        "\n",
        "            # Kl loss validation\n",
        "            kl_loss_val = 0.5 * torch.sum(\n",
        "                prior_logvar - x_logvar +\n",
        "                (torch.exp(x_logvar) + (x_mean - prior_mean) ** 2) / torch.exp(prior_logvar) - 1\n",
        "            ) / seq_tensor.size(0)\n",
        "\n",
        "            # Categorical Kl loss validation\n",
        "            q_m = F.softmax(categorical_logits, dim=-1)\n",
        "            log_q_m = F.log_softmax(categorical_logits, dim=-1)\n",
        "            log_p_m = F.log_softmax(prior_logits, dim=-1)\n",
        "            categorical_kl_loss_val = torch.sum(q_m * (log_q_m - log_p_m)) / seq_tensor.size(0)\n",
        "\n",
        "            # rul loss validation\n",
        "            rul_prediction = rul_prediction.squeeze(-1)\n",
        "            true_rul = true_rul.squeeze()\n",
        "            if len(true_rul.shape) == 1:\n",
        "                true_rul = true_rul.unsqueeze(0)\n",
        "            rul_loss_val = nn.MSELoss()(rul_prediction, true_rul).to(device)\n",
        "\n",
        "            #total loss validation\n",
        "            loss_val = recon_loss_val + kl_loss_val + categorical_kl_loss_val + rul_loss_val\n",
        "            total_val_loss += loss_val.item() * seq_tensor.size(0)\n",
        "\n",
        "        avg_val_loss = total_val_loss / len(val_dataset)\n",
        "        val_loss.append(avg_val_loss)\n",
        "        validation_rmse.append(torch.sqrt(recon_loss_val).item())\n",
        "\n",
        "    print(f'Epoch {epoch+1} Training RMSE: {train_rmse[-1]:.7f} Validation RMSE: {validation_rmse[-1]:.7f}')\n",
        "\n",
        "    if avg_val_loss < best_val_loss:\n",
        "        best_val_loss = avg_val_loss\n",
        "        num_epochs_no_improve = 0\n",
        "        torch.save(model.state_dict(), 'model.pt')\n",
        "    else:\n",
        "        num_epochs_no_improve += 1\n",
        "\n",
        "    if num_epochs_no_improve == patience:\n",
        "        print(f'No improvement in validation loss for {patience} epochs. Training stopped.')\n",
        "        break\n",
        "#training time\n",
        "end_time = time.time()\n",
        "training_time = end_time - start_time\n",
        "print(f\"Training took {training_time:.2f} seconds\")"
      ]
    },
    {
      "cell_type": "markdown",
      "metadata": {
        "id": "B5gcaC9kzsmw"
      },
      "source": [
        "##TESTING"
      ]
    },
    {
      "cell_type": "code",
      "execution_count": 23,
      "metadata": {
        "colab": {
          "base_uri": "https://localhost:8080/"
        },
        "id": "kQDNBxSjN8Ez",
        "outputId": "ef802ddb-8b5b-4432-b68b-0ed682a82cb7"
      },
      "outputs": [
        {
          "output_type": "stream",
          "name": "stdout",
          "text": [
            "Test RMSE: 0.1670714\n"
          ]
        }
      ],
      "source": [
        "# Load the best trained model\n",
        "model.load_state_dict(torch.load('model.pt'))\n",
        "model.eval()\n",
        "model.to(device)\n",
        "\n",
        "# Initialize tracking variables\n",
        "test_loss = 0\n",
        "test_rmse = []\n",
        "rul_prediction_test_rmse = []\n",
        "test_recon_loss = []\n",
        "test_kl_loss = []\n",
        "test_catkl_loss = []\n",
        "test_rul_loss = []\n",
        "\n",
        "# For storing outputs\n",
        "predicted_outputs_test = []\n",
        "input_sequences_test = []\n",
        "true_rul_list_test = []\n",
        "rul_prediction_list_test = []\n",
        "latent_continuous_test = []\n",
        "latent_discrete_test = []\n",
        "\n",
        "with torch.no_grad():\n",
        "    for seq_tensor, seq_len, seq_num, true_rul in test_dataloader:\n",
        "        seq_tensor = seq_tensor.to(device)\n",
        "        true_rul = true_rul.to(device)\n",
        "\n",
        "        # Forward pass\n",
        "        y_hat, x_mean, x_logvar, categorical_logits, x, m, rul_prediction, rul_mean, prior_mean, prior_logvar, prior_logits = model(seq_tensor, seq_len, true_rul)\n",
        "        y_hat = y_hat.permute(0, 2, 1)\n",
        "\n",
        "        # Reconstruction loss\n",
        "        recon_loss_val = nn.MSELoss()(seq_tensor, y_hat).to(device)\n",
        "\n",
        "        # KL divergence (continuous latent)\n",
        "        kl_loss_val = 0.5 * torch.sum(\n",
        "            prior_logvar - x_logvar +\n",
        "            (torch.exp(x_logvar) + (x_mean - prior_mean) ** 2) / torch.exp(prior_logvar) - 1\n",
        "        ) / seq_tensor.size(0)\n",
        "\n",
        "        # KL divergence (discrete latent)\n",
        "        q_m = F.softmax(categorical_logits, dim=-1)\n",
        "        log_q_m = F.log_softmax(categorical_logits, dim=-1)\n",
        "        log_p_m = F.log_softmax(prior_logits, dim=-1)\n",
        "        categorical_kl_loss_val = torch.sum(q_m * (log_q_m - log_p_m)) / seq_tensor.size(0)\n",
        "\n",
        "        # RUL loss\n",
        "        rul_prediction = rul_prediction.squeeze(-1)\n",
        "        true_rul = true_rul.squeeze()\n",
        "        if len(true_rul.shape) == 1:\n",
        "            true_rul = true_rul.unsqueeze(0)\n",
        "        rul_loss_val = nn.MSELoss()(rul_prediction, true_rul).to(device)\n",
        "\n",
        "        # Total test loss\n",
        "        loss_val = recon_loss_val + beta * (kl_loss_val + categorical_kl_loss_val) + rul_loss_val\n",
        "        test_loss += loss_val.item() * seq_tensor.size(0)\n",
        "\n",
        "        # Store per-batch stats\n",
        "        test_rmse.append(torch.sqrt(recon_loss_val).item())\n",
        "        rul_prediction_test_rmse.append(torch.sqrt(rul_loss_val).item())\n",
        "        test_recon_loss.append(recon_loss_val.item())\n",
        "        test_kl_loss.append(kl_loss_val.item())\n",
        "        test_catkl_loss.append(categorical_kl_loss_val.item())\n",
        "        test_rul_loss.append(rul_loss_val.item())\n",
        "\n",
        "        # Store outputs\n",
        "        predicted_outputs_test.append(y_hat)\n",
        "        input_sequences_test.append(seq_tensor)\n",
        "        true_rul_list_test.append(true_rul)\n",
        "        rul_prediction_list_test.append(rul_prediction)\n",
        "        latent_continuous_test.append(x)\n",
        "        latent_discrete_test.append(m)\n",
        "\n",
        "# Average stats\n",
        "avg_test_loss = test_loss / len(test_dataset)\n",
        "avg_test_rmse = sum(test_rmse) / len(test_rmse)\n",
        "avg_rul_rmse = sum(rul_prediction_test_rmse) / len(rul_prediction_test_rmse)\n",
        "\n",
        "# Final reporting\n",
        "print(f\"Test RMSE: {avg_test_rmse:.7f}\")\n",
        "\n"
      ]
    },
    {
      "cell_type": "markdown",
      "source": [
        "##PLOT RESULT"
      ],
      "metadata": {
        "id": "8if-C0glSFrE"
      }
    },
    {
      "cell_type": "markdown",
      "source": [
        "Reconstructed Sensor Observation"
      ],
      "metadata": {
        "id": "eGc1xJjW5cVX"
      }
    },
    {
      "cell_type": "code",
      "execution_count": 24,
      "metadata": {
        "colab": {
          "base_uri": "https://localhost:8080/",
          "height": 449
        },
        "id": "Mwx11wRrMvpp",
        "outputId": "d093db66-0b1f-4b28-8673-2b6bc0a600fe"
      },
      "outputs": [
        {
          "output_type": "display_data",
          "data": {
            "text/plain": [
              "<Figure size 640x480 with 1 Axes>"
            ],
            "image/png": "[encoded data removed]"
          },
          "metadata": {}
        }
      ],
      "source": [
        "# Choose the index and value you want to plot\n",
        "index = 23# Example index\n",
        "value_index = 1# Choose a value index from 0 to 13 for sensor\n",
        "\n",
        "# Extract the reconstructed output and input sequence for the chosen index\n",
        "reconstructed_output = predicted_outputs_test[index][0, :, value_index]\n",
        "input_sequence = input_sequences_test[index][0, :, value_index]\n",
        "\n",
        "# Create the x-axis values based on the sequence length\n",
        "x = np.arange(reconstructed_output.shape[0])\n",
        "#plt.figure(figsize=(10,6),dpi=300)\n",
        "plt.savefig('y.pdf', dpi=300)\n",
        "# Create the plot\n",
        "plt.plot(x, input_sequence,label='Actual sensor measurement', marker='o', linestyle='-')\n",
        "plt.plot(x, reconstructed_output.detach().numpy(),label='Reconstructed sensor measurement', marker='o', linestyle='--')\n",
        "\n",
        "\n",
        "plt.xlabel('Timestep')\n",
        "plt.ylabel('State Value')\n",
        "plt.legend()\n",
        "\n",
        "# Set a higher DPI for the plot\n",
        "plt.savefig('y1_train.pdf', dpi=700)\n",
        "#plt.show()"
      ]
    },
    {
      "cell_type": "markdown",
      "source": [
        "Continuous Latent State Estimation"
      ],
      "metadata": {
        "id": "UX8gXgai5hoW"
      }
    },
    {
      "cell_type": "code",
      "execution_count": 25,
      "metadata": {
        "colab": {
          "base_uri": "https://localhost:8080/",
          "height": 466
        },
        "id": "EL6047-aPa1t",
        "outputId": "b13f07ac-a01b-47ad-ec98-f8ff6468f984"
      },
      "outputs": [
        {
          "output_type": "execute_result",
          "data": {
            "text/plain": [
              "<matplotlib.legend.Legend at 0x7a0becb26910>"
            ]
          },
          "metadata": {},
          "execution_count": 25
        },
        {
          "output_type": "display_data",
          "data": {
            "text/plain": [
              "<Figure size 640x480 with 1 Axes>"
            ],
            "image/png": "[encoded data removed]"
          },
          "metadata": {}
        }
      ],
      "source": [
        "# Choose the batch index for plotting\n",
        "batch_index =8\n",
        "\n",
        "# Access the true and estimated continuous latent tensors for the chosen batch index\n",
        "#true_continuous_latent = con_latent_true[batch_index].squeeze().detach().numpy()\n",
        "estimated_continuous_latent = latent_continuous_test[batch_index].squeeze().detach().numpy()\n",
        "\n",
        "# Create a time step array\n",
        "time_steps = np.arange(estimated_continuous_latent.shape[0])\n",
        "\n",
        "# Plot the true values of the continuous latent variable\n",
        "#plt.plot(time_steps, true_continuous_latent, '-*', label='True Continuous Latent', color= \"green\")\n",
        "\n",
        "# Plot the estimated values of the continuous latent variable\n",
        "plt.plot(time_steps, estimated_continuous_latent, '-*', label='Estimated Continuous Latent', color=\"red\")\n",
        "\n",
        "# Add text annotations\n",
        "#plt.text(0.05, 0.95, f\"Batch Index: {batch_index}\", transform=plt.gca().transAxes, ha='left', va='bottom')\n",
        "plt.savefig('x.pdf', dpi=300)\n",
        "# Set the plot title and labels\n",
        "#plt.title('Estimated Discrete Latent Variables'.format(batch_index))\n",
        "plt.xlabel('Timestep')\n",
        "plt.ylabel('State Value')\n",
        "plt.legend()\n",
        "#plt.show()\n"
      ]
    },
    {
      "cell_type": "markdown",
      "source": [
        "Discrete Latent State Observation"
      ],
      "metadata": {
        "id": "ZBRnRLK15pyc"
      }
    },
    {
      "cell_type": "code",
      "execution_count": 26,
      "metadata": {
        "colab": {
          "base_uri": "https://localhost:8080/",
          "height": 449
        },
        "id": "dqD4VtQsPtbj",
        "outputId": "121de336-6f4e-4ae1-99e7-e814a29fd2ec"
      },
      "outputs": [
        {
          "output_type": "display_data",
          "data": {
            "text/plain": [
              "<Figure size 640x480 with 1 Axes>"
            ],
            "image/png": "[encoded data removed]"
          },
          "metadata": {}
        }
      ],
      "source": [
        "#Choose the batch index for plotting\n",
        "batch_index = 66\n",
        "\n",
        "# Access the true and estimated continuous latent tensors for the chosen batch index\n",
        "#true_discrete_latent = dis_latent_true[batch_index].squeeze().detach().numpy()\n",
        "estimated_discrete_latent = latent_discrete_test[batch_index].squeeze().detach().numpy()\n",
        "\n",
        "# Create a time step array\n",
        "time_steps = np.arange(estimated_discrete_latent.shape[0])\n",
        "\n",
        "# Plot the true values of the continuous latent variable\n",
        "#plt.plot(time_steps, true_discrete_latent, '-*', label='True Discrete Latent', color= \"green\")\n",
        "\n",
        "# Plot the estimated values of the continuous latent variable\n",
        "plt.plot(time_steps, estimated_discrete_latent, '-*', label='Estimated Discrete Latent', color= \"green\")\n",
        "\n",
        "plt.savefig('m.pdf', dpi=300)\n",
        "# Add text annotations\n",
        "#plt.text(0.05, 0.95, f\"Batch Index: {batch_index}\", transform=plt.gca().transAxes, ha='left', va='bottom')\n",
        "\n",
        "# Set the plot title and labels\n",
        "#plt.title('Estimated Discrete Latent Variables'.format(batch_index))\n",
        "plt.xlabel('Timestep')\n",
        "plt.ylabel('State Value')\n",
        "plt.legend()\n",
        "plt.show()"
      ]
    },
    {
      "cell_type": "markdown",
      "source": [
        "RMSE for Test RUL estimation of Last point"
      ],
      "metadata": {
        "id": "2I9QfvdA5Q2t"
      }
    },
    {
      "cell_type": "code",
      "source": [
        "# Run this after more epochs to reproduce the result reported\n",
        "last_true_values = []\n",
        "last_estimated_values = []\n",
        "\n",
        "# Collect the last timestep RUL values for each unit\n",
        "for true_rul, estimated_rul in zip(true_rul_list_test, rul_prediction_list_test):\n",
        "    last_true = true_rul[-1, -1].item()  # shape: (timesteps, 1)\n",
        "    last_estimated = estimated_rul[-1, -1].item()\n",
        "    max_val = 125\n",
        "    min_val = 7\n",
        "\n",
        "    # Denormalize\n",
        "    denorm_true = last_true * (max_val - min_val) + min_val\n",
        "    denorm_estimated = last_estimated * (max_val - min_val) + min_val\n",
        "\n",
        "\n",
        "    last_true_values.append(denorm_true)\n",
        "    last_estimated_values.append(denorm_estimated)\n",
        "\n",
        "# Compute RMSE\n",
        "rmse = np.sqrt(np.mean([(t - e) ** 2 for t, e in zip(last_true_values, last_estimated_values)]))\n",
        "print(f'RMSE for last values: {rmse:.4f}')"
      ],
      "metadata": {
        "id": "aM0ka7Fs5KZ3",
        "colab": {
          "base_uri": "https://localhost:8080/"
        },
        "outputId": "b019895c-233c-4da2-80ca-5e4b3e9cbd67"
      },
      "execution_count": 75,
      "outputs": [
        {
          "output_type": "stream",
          "name": "stdout",
          "text": [
            "RMSE for last values: 14.8191\n"
          ]
        }
      ]
    },
    {
      "cell_type": "code",
      "execution_count": 103,
      "metadata": {
        "colab": {
          "base_uri": "https://localhost:8080/",
          "height": 489
        },
        "id": "W1fW2TVbPHfr",
        "outputId": "f9930953-a714-4d10-a3ba-0f306bc2b84a"
      },
      "outputs": [
        {
          "output_type": "execute_result",
          "data": {
            "text/plain": [
              "<matplotlib.legend.Legend at 0x7a0bea7bf490>"
            ]
          },
          "metadata": {},
          "execution_count": 103
        },
        {
          "output_type": "display_data",
          "data": {
            "text/plain": [
              "<Figure size 640x480 with 1 Axes>"
            ],
            "image/png": "[encoded data removed]"
          },
          "metadata": {}
        }
      ],
      "source": [
        "# Choose the batch index for plotting\n",
        "batch_index = 17\n",
        "\n",
        "# Access the true and estimated continuous latent tensors for the chosen batch index\n",
        "true = true_rul_list_test[batch_index].squeeze().detach().cpu().numpy()\n",
        "estimated= rul_prediction_list_test[batch_index].squeeze().detach().cpu().numpy()\n",
        "\n",
        "# Create a time step array\n",
        "time_steps = np.arange(true.shape[0])\n",
        "plt.savefig('r.pdf', dpi=300)\n",
        "# Plot the true values of the continuous latent variable\n",
        "plt.plot(time_steps, true, '-o', label='True RUL', color= \"green\")\n",
        "\n",
        "# Plot the estimated values of the continuous latent variable\n",
        "plt.plot(time_steps, estimated, '-o', label='Estimated RUL', color=\"red\")\n",
        "\n",
        "# Add text annotations\n",
        "#plt.text(0.05, 0.95, f\"Batch Index: {batch_index}\", transform=plt.gca().transAxes, ha='left', va='bottom')\n",
        "\n",
        "# Set the plot title and labels\n",
        "plt.title('True vs Estimated RUL ')\n",
        "plt.xlabel('Timestep')\n",
        "plt.ylabel('RUL Value')\n",
        "plt.legend()\n",
        "#plt.show()\n",
        "# Set a higher DPI for the plot\n",
        "#plt.savefig('rul10_train.pdf', dpi=700)"
      ]
    }
  ],
  "metadata": {
    "accelerator": "TPU",
    "colab": {
      "gpuType": "V28",
      "provenance": [],
      "include_colab_link": true
    },
    "kernelspec": {
      "display_name": "nadia",
      "language": "python",
      "name": "nadia"
    },
    "language_info": {
      "codemirror_mode": {
        "name": "ipython",
        "version": 3
      },
      "file_extension": ".py",
      "mimetype": "text/x-python",
      "name": "python",
      "nbconvert_exporter": "python",
      "pygments_lexer": "ipython3",
      "version": "3.12.1"
    }
  },
  "nbformat": 4,
  "nbformat_minor": 0
}